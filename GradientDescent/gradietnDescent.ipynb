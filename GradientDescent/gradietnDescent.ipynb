{
 "cells": [
  {
   "cell_type": "markdown",
   "metadata": {},
   "source": [
    "# What is Gradient desent ?\n",
    "It is a first-order iterative algorithm used to find a local minimum of a differentiable multivariate function.\n",
    "\n",
    "The idea is to take repeated steps in the opposite direction of the gradient (or approximate gradient) of the function at the current point, because this is the direction of steepest descent. Conversely, stepping in the direction of the gradient will lead to a local maximum of that function\n"
   ]
  },
  {
   "cell_type": "markdown",
   "metadata": {},
   "source": [
    "<img src=\"Gradient_descent.svg.png\" alt=\"Drawing\" style=\"width: 300px;\" title=\"Gradient Desent\"/>\n",
    "\n"
   ]
  },
  {
   "cell_type": "code",
   "execution_count": 228,
   "metadata": {},
   "outputs": [],
   "source": [
    "from sklearn.datasets import make_regression\n",
    "import numpy as np\n",
    "import matplotlib.pyplot as plt"
   ]
  },
  {
   "cell_type": "code",
   "execution_count": 229,
   "metadata": {},
   "outputs": [
    {
     "data": {
      "text/plain": [
       "<matplotlib.collections.PathCollection at 0x22d332c7d10>"
      ]
     },
     "execution_count": 229,
     "metadata": {},
     "output_type": "execute_result"
    },
    {
     "data": {
      "image/png": "[encoded data removed]",
      "text/plain": [
       "<Figure size 640x480 with 1 Axes>"
      ]
     },
     "metadata": {},
     "output_type": "display_data"
    }
   ],
   "source": [
    "X,y = make_regression(n_samples=100 , n_features= 1 , n_informative=1 ,n_targets=1 ,noise=5)\n",
    "plt.scatter(X,y)"
   ]
  },
  {
   "cell_type": "code",
   "execution_count": 230,
   "metadata": {},
   "outputs": [],
   "source": [
    "X_scaled = (X - np.min(X))/(np.max(X)-np.min(X))\n",
    "y_scaled = (y - np.min(y))/(np.max(X)-np.min(y))"
   ]
  },
  {
   "cell_type": "code",
   "execution_count": 231,
   "metadata": {},
   "outputs": [],
   "source": [
    "class GradientDescent:\n",
    "    def __init__(self, lr = 0.001 , m=0 ,b=0):\n",
    "        self.lr = lr\n",
    "        self.m = m\n",
    "        self.b = b\n",
    "\n",
    "    def fit(self,X,y ,epoch=1000):\n",
    "        for i in range(epoch):\n",
    "            index = np.random.randint(X.shape[0])\n",
    "            loss = (y[index] - self.m*X[index] - self.b )**2\n",
    "            if i%100==0:\n",
    "                print(F\"loss : {loss}\" )\n",
    "\n",
    "            dl_dm = -2*(y[index] - self.m*X[index] -self.b)*X[index]\n",
    "            dl_db = -2*(y[index] - self.m*X[index] -self.b)\n",
    "\n",
    "            self.m -= self.lr*dl_dm\n",
    "            self.b -= self.lr*dl_db\n",
    "\n",
    "    def predict(self , val):\n",
    "        return self.m*val + self.b"
   ]
  },
  {
   "cell_type": "code",
   "execution_count": 232,
   "metadata": {},
   "outputs": [
    {
     "name": "stdout",
     "output_type": "stream",
     "text": [
      "-0.07089483208286029 [2.21170497]\n"
     ]
    }
   ],
   "source": [
    "from sklearn.linear_model import LinearRegression\n",
    "\n",
    "model = LinearRegression()\n",
    "model.fit(X_scaled,y_scaled)\n",
    "print(model.intercept_ ,model.coef_ )"
   ]
  },
  {
   "cell_type": "code",
   "execution_count": 233,
   "metadata": {},
   "outputs": [
    {
     "name": "stdout",
     "output_type": "stream",
     "text": [
      "loss : [0.65474419]\n",
      "loss : [0.00391734]\n",
      "loss : [0.0028933]\n",
      "loss : [0.07968287]\n",
      "loss : [0.01943883]\n",
      "loss : [0.04738647]\n",
      "loss : [0.00061709]\n",
      "loss : [0.024691]\n",
      "loss : [0.04081644]\n",
      "loss : [0.11213435]\n",
      "[-0.02387621] [2.29014478]\n"
     ]
    }
   ],
   "source": [
    "gd = GradientDescent(lr=0.1)\n",
    "gd.fit(X_scaled,y_scaled, epoch=1000)\n",
    "print(gd.b , gd.m)"
   ]
  },
  {
   "cell_type": "code",
   "execution_count": 234,
   "metadata": {},
   "outputs": [],
   "source": [
    "class SGD:\n",
    "    def __init__(self, lr = 0.001 , m=0 ,b=0):\n",
    "        self.lr = lr\n",
    "        self.m = m\n",
    "        self.b = b\n",
    "\n",
    "    def fit(self,X,y ,epoch=10):\n",
    "        for j in range(epoch):\n",
    "            for i in range(X.shape[0]):\n",
    "\n",
    "                dl_dm = -2*(y[i] - self.m*X[i] -self.b)*X[i]\n",
    "                dl_db = -2*(y[i] - self.m*X[i] -self.b)\n",
    "\n",
    "                self.m -= self.lr*dl_dm \n",
    "                self.b -= self.lr*dl_db\n",
    "\n",
    "            loss = np.sum((y - self.m*X - self.b )**2)\n",
    "            if j%5==0:\n",
    "                print(F\"epoch : {j} || loss  : {loss}\" )\n",
    "\n",
    "    def predict(self , val):\n",
    "        return self.m*val + self.b"
   ]
  },
  {
   "cell_type": "code",
   "execution_count": 235,
   "metadata": {},
   "outputs": [
    {
     "name": "stdout",
     "output_type": "stream",
     "text": [
      "epoch : 0 || loss  : 7119.5019140977665\n",
      "epoch : 5 || loss  : 1934.6526488760746\n",
      "epoch : 10 || loss  : 1549.415449578636\n",
      "epoch : 15 || loss  : 1540.9638704203203\n",
      "epoch : 20 || loss  : 1554.5807434112212\n",
      "epoch : 25 || loss  : 1567.364071195133\n",
      "epoch : 30 || loss  : 1579.5583721600333\n",
      "epoch : 35 || loss  : 1591.809682766191\n",
      "[0.66096392] [0.68377661]\n"
     ]
    }
   ],
   "source": [
    "sgd = SGD()\n",
    "sgd.fit(X_scaled,y_scaled, epoch=40)\n",
    "print(sgd.b , sgd.m)"
   ]
  }
 ],
 "metadata": {
  "kernelspec": {
   "display_name": "Python 3",
   "language": "python",
   "name": "python3"
  },
  "language_info": {
   "codemirror_mode": {
    "name": "ipython",
    "version": 3
   },
   "file_extension": ".py",
   "mimetype": "text/x-python",
   "name": "python",
   "nbconvert_exporter": "python",
   "pygments_lexer": "ipython3",
   "version": "3.12.4"
  }
 },
 "nbformat": 4,
 "nbformat_minor": 2
}
